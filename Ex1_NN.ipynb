{
  "nbformat": 4,
  "nbformat_minor": 0,
  "metadata": {
    "colab": {
      "provenance": [],
      "include_colab_link": true
    },
    "kernelspec": {
      "name": "python3",
      "display_name": "Python 3"
    }
  },
  "cells": [
    {
      "cell_type": "markdown",
      "metadata": {
        "id": "view-in-github",
        "colab_type": "text"
      },
      "source": [
        "<a href=\"https://colab.research.google.com/github/sweetykitty777/Computer-Vision/blob/main/Ex1_NN.ipynb\" target=\"_parent\"><img src=\"https://colab.research.google.com/assets/colab-badge.svg\" alt=\"Open In Colab\"/></a>"
      ]
    },
    {
      "cell_type": "markdown",
      "metadata": {
        "id": "BRXusPhYCMOv"
      },
      "source": [
        "# Load the data\n",
        "\n",
        "You can download CIFAR10 dataset from official site: https://www.cs.toronto.edu/~kriz/cifar.html\n",
        "\n",
        "or do it using Pytorch:\n",
        "https://pytorch.org/vision/stable/datasets.html#cifar\n",
        "\n",
        "or another framework.\n",
        "\n"
      ]
    },
    {
      "cell_type": "code",
      "metadata": {
        "id": "kUHLgFWQ6xBq",
        "colab": {
          "base_uri": "https://localhost:8080/"
        },
        "outputId": "bcd00e19-f228-4025-eb10-b9ace70c5187"
      },
      "source": [
        "import torch\n",
        "import torchvision\n",
        "import torchvision.transforms as transforms\n",
        "\n",
        "transform = transforms.Compose(\n",
        "    [transforms.ToTensor(),\n",
        "     transforms.Normalize((0.5, 0.5, 0.5), (0.5, 0.5, 0.5))])\n",
        "\n",
        "trainset = torchvision.datasets.CIFAR10(root='./data', train=True,\n",
        "                                        download=True, transform=transform)\n",
        "trainloader = torch.utils.data.DataLoader(trainset, batch_size=4,\n",
        "                                          shuffle=True, num_workers=2)\n",
        "testset = torchvision.datasets.CIFAR10(root='./data', train=False,\n",
        "                                       download=True, transform=transform)\n",
        "testloader = torch.utils.data.DataLoader(testset, batch_size=4,\n",
        "                                         shuffle=False, num_workers=2)\n",
        "\n",
        "classes = ['Самолет', 'Автомобиль', 'Птица', 'Кошка', 'Олень', 'Собака', 'Лягушка', 'Лошадь', 'Корабль', 'Грузовик']"
      ],
      "execution_count": null,
      "outputs": [
        {
          "output_type": "stream",
          "name": "stdout",
          "text": [
            "Files already downloaded and verified\n",
            "Files already downloaded and verified\n"
          ]
        }
      ]
    },
    {
      "cell_type": "markdown",
      "metadata": {
        "id": "jYyQ8jCrCUoP"
      },
      "source": [
        "## Split data into train and validation parts\n",
        "\n",
        "Extract subset containing train and validation parts.\n",
        "Part must contain 5000 and 500 samples respectively."
      ]
    },
    {
      "cell_type": "code",
      "source": [
        "train_data, train_labels = trainset.data[:5000], np.array(trainset.targets[:5000])\n",
        "val_data, val_labels = trainset.data[5000:5500], np.array(trainset.targets[5000:5500])\n",
        "\n",
        "train_data = train_data.reshape(5000, -1)\n",
        "val_data = val_data.reshape(500, -1)"
      ],
      "metadata": {
        "id": "UkTDmRThVvXu"
      },
      "execution_count": null,
      "outputs": []
    },
    {
      "cell_type": "markdown",
      "metadata": {
        "id": "WWDRnugWCDsU"
      },
      "source": [
        "## Dispaly some images  along with it class names\n",
        "  \n"
      ]
    },
    {
      "cell_type": "code",
      "metadata": {
        "id": "K0xyDO8YB95O",
        "colab": {
          "base_uri": "https://localhost:8080/",
          "height": 210
        },
        "outputId": "729b4b23-7cf6-4f47-f18f-3d2e65171082"
      },
      "source": [
        "import matplotlib.pyplot as plt\n",
        "import numpy as np\n",
        "import torchvision\n",
        "\n",
        "def imshow(img):\n",
        "    img = img / 2 + 0.5\n",
        "    npimg = img.numpy()\n",
        "    plt.imshow(np.transpose(npimg, (1, 2, 0)))\n",
        "    plt.show()\n",
        "\n",
        "\n",
        "dataiter = iter(trainloader)\n",
        "data = next(dataiter)\n",
        "images, labels = data[0], data[1]\n",
        "imshow(torchvision.utils.make_grid(images))\n",
        "print(' '.join('%5s' % classes[labels[j]] for j in range(4)))"
      ],
      "execution_count": null,
      "outputs": [
        {
          "output_type": "display_data",
          "data": {
            "text/plain": [
              "<Figure size 640x480 with 1 Axes>"
            ],
            "image/png": "[encoded data removed]"
          },
          "metadata": {}
        },
        {
          "output_type": "stream",
          "name": "stdout",
          "text": [
            "Лошадь Корабль Корабль Птица\n"
          ]
        }
      ]
    },
    {
      "cell_type": "markdown",
      "metadata": {
        "id": "gVVCDZnvCoZI"
      },
      "source": [
        "# Implement NearestNeighbor class"
      ]
    },
    {
      "cell_type": "code",
      "source": [
        "class NearestNeighbor:\n",
        "  def __init__(self):\n",
        "    pass\n",
        "\n",
        "  def fit(self,x,y):\n",
        "    self.x = x\n",
        "    self.y = y\n",
        "\n",
        "  def predict(self,x):\n",
        "    num_test = x.shape[0]\n",
        "    labels = np.zeros(num_test, dtype=self.y.dtype)\n",
        "\n",
        "    for i in range(num_test):\n",
        "      distances = np.sum(np.abs(self.x - x[i,:]), axis=1)\n",
        "      min_index = np.argmin(distances)\n",
        "      labels[i] = self.y[min_index]\n",
        "\n",
        "    return labels"
      ],
      "metadata": {
        "id": "Drila9QWV3mp"
      },
      "execution_count": null,
      "outputs": []
    },
    {
      "cell_type": "markdown",
      "metadata": {
        "id": "wHkxc21JCsmb"
      },
      "source": [
        "##Perform smoke test\n",
        "\n",
        "- Create model instance\n",
        "- get predictions for dozen of samples\n"
      ]
    },
    {
      "cell_type": "code",
      "source": [
        "nn = NearestNeighbor()\n",
        "nn.fit(train_data, train_labels)\n",
        "\n",
        "predictions = nn.predict(val_data[:10])\n",
        "\n",
        "for i, prediction in enumerate(predictions):\n",
        "    print(prediction, \"vs\", val_labels[i])"
      ],
      "metadata": {
        "colab": {
          "base_uri": "https://localhost:8080/"
        },
        "id": "qvQxYVhhWC0B",
        "outputId": "e31fbde2-b3ee-45e2-acac-29dbf9c0e8c1"
      },
      "execution_count": null,
      "outputs": [
        {
          "output_type": "stream",
          "name": "stdout",
          "text": [
            "2 vs 6\n",
            "6 vs 7\n",
            "0 vs 9\n",
            "2 vs 0\n",
            "3 vs 5\n",
            "2 vs 2\n",
            "2 vs 3\n",
            "4 vs 3\n",
            "4 vs 3\n",
            "7 vs 9\n"
          ]
        }
      ]
    },
    {
      "cell_type": "markdown",
      "metadata": {
        "id": "jXd1XtQTCzi7"
      },
      "source": [
        "# Validate your model"
      ]
    },
    {
      "cell_type": "markdown",
      "metadata": {
        "id": "Nn9rKA56C49-"
      },
      "source": [
        "## Create validation function\n",
        "\n",
        "Must calculate Accuracy metric for your model."
      ]
    },
    {
      "cell_type": "code",
      "metadata": {
        "id": "0CntfpSeBoLW"
      },
      "source": [
        "def validate(model,x, y):\n",
        "  \"\"\"\n",
        "      Arguments:\n",
        "          model (Object): instance of NearestNeighbor class\n",
        "          x (Tensor or numpy.array): collection of objects\n",
        "          y (Tensor or numpy.array): collection of integer representing\n",
        "          class numbers for objects from x\n",
        "\n",
        "      Returns:\n",
        "          accuracy (float) : percentage of correctly classified objects\n",
        "    \"\"\"\n",
        "  predictions = model.predict(x)\n",
        "  accuracy = np.mean(predictions == y)\n",
        "  return accuracy"
      ],
      "execution_count": null,
      "outputs": []
    },
    {
      "cell_type": "markdown",
      "metadata": {
        "id": "vjKQEAthEKxl"
      },
      "source": [
        " ## Calculate model accuracy on validation data"
      ]
    },
    {
      "cell_type": "code",
      "metadata": {
        "id": "Lv123m6OCEI-",
        "colab": {
          "base_uri": "https://localhost:8080/"
        },
        "outputId": "1e004cc9-25e7-4bea-e2d0-cf6197430b48"
      },
      "source": [
        "accuracy = validate(nn, val_data, val_labels)\n",
        "print (\"Accuracy {:.3f}\".format(accuracy))"
      ],
      "execution_count": null,
      "outputs": [
        {
          "output_type": "stream",
          "name": "stdout",
          "text": [
            "Accuracy 0.210\n"
          ]
        }
      ]
    },
    {
      "cell_type": "markdown",
      "metadata": {
        "id": "ZsImxpggG8bH"
      },
      "source": [
        "# Place for brief conclusion\n",
        "Well, I have done some extra work below, so I found out that manhattan distance with 1 neighbour fits the task better than other types of algorithms but it is also very bad (worse than people)\n"
      ]
    },
    {
      "cell_type": "markdown",
      "source": [
        "### Extra work is here: ###"
      ],
      "metadata": {
        "id": "Ns-BiyYiYxDY"
      }
    },
    {
      "cell_type": "code",
      "source": [
        "import numpy as np\n",
        "\n",
        "class KNearestNeighbor:\n",
        "    def __init__(self, k, distance_fn):\n",
        "        self.k = k\n",
        "        self.distance_fn = distance_fn\n",
        "\n",
        "    def fit(self, x, y):\n",
        "        self.x_train = x\n",
        "        self.y_train = y\n",
        "\n",
        "    def predict(self, x):\n",
        "        labels = []\n",
        "        for i in range(len(x)):\n",
        "            dists = self.distance_fn(self.x_train, x[i, :])\n",
        "            knn = np.argsort(dists)[:self.k]\n",
        "            labels_knn = self.y_train[knn]\n",
        "            label, count = np.unique(labels_knn, return_counts=True)\n",
        "            labels.append(label[np.argmax(count)])\n",
        "        return np.array(labels)"
      ],
      "metadata": {
        "id": "vphcgZ0DXw5w"
      },
      "execution_count": null,
      "outputs": []
    },
    {
      "cell_type": "code",
      "source": [
        "def euclidean_distance(x_train, x_test):\n",
        "    return np.sqrt(np.sum((x_train - x_test)**2, axis=1))\n",
        "\n",
        "def manhattan_distance(x_train, x_test):\n",
        "    return np.sum(np.abs(x_train - x_test), axis=1)\n",
        "\n",
        "def chebyshev_distance(x_train, x_test):\n",
        "    return np.max(np.abs(x_train - x_test), axis=1)"
      ],
      "metadata": {
        "id": "NasmFxv6Xyic"
      },
      "execution_count": null,
      "outputs": []
    },
    {
      "cell_type": "code",
      "source": [
        "for distance_fn in [euclidean_distance, manhattan_distance, chebyshev_distance]:\n",
        "    for k in [1, 3, 5, 7]:\n",
        "      knn = KNearestNeighbor(k=k, distance_fn=distance_fn)\n",
        "      knn.fit(train_data, train_labels)\n",
        "      preds = knn.predict(val_data)\n",
        "      accuracy = np.mean(preds == val_labels)\n",
        "      print(f\"Accuracy with {distance_fn.__name__}, {k} neighbors: {accuracy}\")"
      ],
      "metadata": {
        "colab": {
          "base_uri": "https://localhost:8080/"
        },
        "id": "lBKMtmSZX2vb",
        "outputId": "ca666646-d248-4f1d-851b-8522916e3892"
      },
      "execution_count": null,
      "outputs": [
        {
          "output_type": "stream",
          "name": "stdout",
          "text": [
            "Accuracy with euclidean_distance, 1 neighbors: 0.186\n",
            "Accuracy with euclidean_distance, 3 neighbors: 0.182\n",
            "Accuracy with euclidean_distance, 5 neighbors: 0.194\n",
            "Accuracy with euclidean_distance, 7 neighbors: 0.18\n",
            "Accuracy with manhattan_distance, 1 neighbors: 0.21\n",
            "Accuracy with manhattan_distance, 3 neighbors: 0.172\n",
            "Accuracy with manhattan_distance, 5 neighbors: 0.196\n",
            "Accuracy with manhattan_distance, 7 neighbors: 0.192\n",
            "Accuracy with chebyshev_distance, 1 neighbors: 0.086\n",
            "Accuracy with chebyshev_distance, 3 neighbors: 0.09\n",
            "Accuracy with chebyshev_distance, 5 neighbors: 0.086\n",
            "Accuracy with chebyshev_distance, 7 neighbors: 0.078\n"
          ]
        }
      ]
    },
    {
      "cell_type": "code",
      "source": [
        "for distance_fn in [euclidean_distance, manhattan_distance, chebyshev_distance]:\n",
        "    for k in [12, 17, 21]:\n",
        "      knn = KNearestNeighbor(k=k, distance_fn=distance_fn)\n",
        "      knn.fit(train_data, train_labels)\n",
        "      preds = knn.predict(val_data)\n",
        "      accuracy = np.mean(preds == val_labels)\n",
        "      print(f\"Accuracy with {distance_fn.__name__}, {k} neighbors: {accuracy}\")"
      ],
      "metadata": {
        "colab": {
          "base_uri": "https://localhost:8080/"
        },
        "id": "v_9JIOFObb_q",
        "outputId": "98378360-d7b5-4fa4-e6f3-36096fcd9df2"
      },
      "execution_count": null,
      "outputs": [
        {
          "output_type": "stream",
          "name": "stdout",
          "text": [
            "Accuracy with euclidean_distance, 12 neighbors: 0.176\n",
            "Accuracy with euclidean_distance, 17 neighbors: 0.172\n",
            "Accuracy with euclidean_distance, 21 neighbors: 0.164\n",
            "Accuracy with manhattan_distance, 12 neighbors: 0.186\n",
            "Accuracy with manhattan_distance, 17 neighbors: 0.178\n",
            "Accuracy with manhattan_distance, 21 neighbors: 0.184\n",
            "Accuracy with chebyshev_distance, 12 neighbors: 0.082\n",
            "Accuracy with chebyshev_distance, 17 neighbors: 0.08\n",
            "Accuracy with chebyshev_distance, 21 neighbors: 0.08\n"
          ]
        }
      ]
    },
    {
      "cell_type": "markdown",
      "metadata": {
        "id": "lJ13OmfCEb1w"
      },
      "source": [
        "# Ideas for extra work\n",
        "\n",
        "- Implenment K-NearestNeighbor\n",
        "- Test different distance functions\n",
        "- Find hyperparams using Cross-Validation\n",
        "- Plot accuracy curve against K\n",
        "- Evaluate time  "
      ]
    }
  ]
}